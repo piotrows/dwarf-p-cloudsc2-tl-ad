{
 "cells": [
  {
   "cell_type": "code",
   "execution_count": 3,
   "id": "5c8ea02f-2732-466e-b6df-f33cdcba6419",
   "metadata": {},
   "outputs": [
    {
     "ename": "ModuleNotFoundError",
     "evalue": "No module named '_Exampledwarf'",
     "output_type": "error",
     "traceback": [
      "\u001b[0;31m---------------------------------------------------------------------------\u001b[0m",
      "\u001b[0;31mModuleNotFoundError\u001b[0m                       Traceback (most recent call last)",
      "Input \u001b[0;32mIn [3]\u001b[0m, in \u001b[0;36m<cell line: 1>\u001b[0;34m()\u001b[0m\n\u001b[0;32m----> 1\u001b[0m \u001b[38;5;28;01mimport\u001b[39;00m \u001b[38;5;21;01m_Exampledwarf\u001b[39;00m\n\u001b[1;32m      2\u001b[0m \u001b[38;5;28;01mimport\u001b[39;00m \u001b[38;5;21;01mf90wrap\u001b[39;00m\u001b[38;5;21;01m.\u001b[39;00m\u001b[38;5;21;01mruntime\u001b[39;00m\n\u001b[1;32m      3\u001b[0m \u001b[38;5;28;01mimport\u001b[39;00m \u001b[38;5;21;01mlogging\u001b[39;00m\n",
      "\u001b[0;31mModuleNotFoundError\u001b[0m: No module named '_Exampledwarf'"
     ]
    }
   ],
   "source": [
    "import _Exampledwarf\n",
    "import f90wrap.runtime\n",
    "import logging\n",
    "\n",
    "class Dwarf(f90wrap.runtime.FortranModule):\n",
    "\n",
    "    @staticmethod\n",
    "    def do_dwarf_call(numomp, nproma, nlev, ngptot, ngptotg, nblocks):\n",
    "        \"\"\"\n",
    "        _Exampledwarf.cloudsc_driver_print(NUMOMP, NPROMA, NLEV, NGPTOT, NGPTOTG, NBLOCKS) \n",
    "\n",
    "        Parameters\n",
    "        ----------\n",
    "        numomp : int\n",
    "        nproma : int\n",
    "        nlev   : int\n",
    "        ngptot : int\n",
    "        ngptotg: int\n",
    "        nblocks: int\n",
    "\n",
    "        \"\"\"\n",
    "        _Exampledwarf.f90wrap_cloudsc_driver_print(NUMOMP=numomp, NPROMA=nproma, NLEV=nlev, NGPTOT=ngptot, NGPTOTG=ngptotg, NBLOCKS=nblocks)\n",
    "        \n",
    "        \n",
    "dwarf = Dwarf()"
   ]
  },
  {
   "cell_type": "code",
   "execution_count": 5,
   "id": "54fbe75b-ddc9-4772-bba8-a56757a3d0c6",
   "metadata": {},
   "outputs": [
    {
     "ename": "ModuleNotFoundError",
     "evalue": "No module named '_Exampledwarf'",
     "output_type": "error",
     "traceback": [
      "\u001b[0;31m---------------------------------------------------------------------------\u001b[0m",
      "\u001b[0;31mModuleNotFoundError\u001b[0m                       Traceback (most recent call last)",
      "Input \u001b[0;32mIn [5]\u001b[0m, in \u001b[0;36m<cell line: 1>\u001b[0;34m()\u001b[0m\n\u001b[0;32m----> 1\u001b[0m \u001b[38;5;28;01mimport\u001b[39;00m \u001b[38;5;21;01mExampledwarf\u001b[39;00m\n",
      "File \u001b[0;32m~/dwarf-p-cloudsc2-tl-ad/src/cloudsc2_nl/Exampledwarf/__init__.py:2\u001b[0m, in \u001b[0;36m<module>\u001b[0;34m\u001b[0m\n\u001b[1;32m      1\u001b[0m \u001b[38;5;28;01mfrom\u001b[39;00m \u001b[38;5;21;01m__future__\u001b[39;00m \u001b[38;5;28;01mimport\u001b[39;00m print_function, absolute_import, division\n\u001b[0;32m----> 2\u001b[0m \u001b[38;5;28;01mimport\u001b[39;00m \u001b[38;5;21;01m_Exampledwarf\u001b[39;00m\n\u001b[1;32m      3\u001b[0m \u001b[38;5;28;01mimport\u001b[39;00m \u001b[38;5;21;01mf90wrap\u001b[39;00m\u001b[38;5;21;01m.\u001b[39;00m\u001b[38;5;21;01mruntime\u001b[39;00m\n\u001b[1;32m      4\u001b[0m \u001b[38;5;28;01mimport\u001b[39;00m \u001b[38;5;21;01mlogging\u001b[39;00m\n",
      "\u001b[0;31mModuleNotFoundError\u001b[0m: No module named '_Exampledwarf'"
     ]
    }
   ],
   "source": [
    "import Exampledwarf"
   ]
  },
  {
   "cell_type": "code",
   "execution_count": null,
   "id": "70dea8de-a1a4-4674-af79-809ff083bdd0",
   "metadata": {},
   "outputs": [],
   "source": []
  },
  {
   "cell_type": "code",
   "execution_count": null,
   "id": "e731f448-9322-493e-a418-c7a6c6897c44",
   "metadata": {},
   "outputs": [],
   "source": []
  },
  {
   "cell_type": "code",
   "execution_count": null,
   "id": "ab8344c1-bee7-4198-acc7-cf24f35a995f",
   "metadata": {},
   "outputs": [],
   "source": []
  }
 ],
 "metadata": {
  "kernelspec": {
   "display_name": "Python 3 (ipykernel)",
   "language": "python",
   "name": "python3"
  },
  "language_info": {
   "codemirror_mode": {
    "name": "ipython",
    "version": 3
   },
   "file_extension": ".py",
   "mimetype": "text/x-python",
   "name": "python",
   "nbconvert_exporter": "python",
   "pygments_lexer": "ipython3",
   "version": "3.10.5"
  }
 },
 "nbformat": 4,
 "nbformat_minor": 5
}
